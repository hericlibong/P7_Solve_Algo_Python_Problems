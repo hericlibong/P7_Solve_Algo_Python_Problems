{
 "cells": [
  {
   "cell_type": "code",
   "execution_count": 1,
   "id": "7fd30320-37d6-4191-acf4-92eba5f53307",
   "metadata": {},
   "outputs": [],
   "source": [
    "from itertools import combinations\n",
    "import csv\n",
    "import pandas as pd\n",
    "import bamboolib as bam"
   ]
  },
  {
   "cell_type": "code",
   "execution_count": 2,
   "id": "5bb6df4b-4fb5-4b33-80f4-3b8b28a1b44e",
   "metadata": {},
   "outputs": [],
   "source": [
    "data = pd.read_csv('dataset1_Python+P7.csv')\n",
    "datab = data.head(50)\n",
    "datab.to_csv('test.csv', index_label=False)"
   ]
  },
  {
   "cell_type": "code",
   "execution_count": 4,
   "id": "2cf77488-e335-4813-95fe-a286e9bd282b",
   "metadata": {},
   "outputs": [
    {
     "ename": "TypeError",
     "evalue": "unsupported operand type(s) for +: 'int' and 'str'",
     "output_type": "error",
     "traceback": [
      "\u001b[1;31m---------------------------------------------------------------------------\u001b[0m",
      "\u001b[1;31mTypeError\u001b[0m                                 Traceback (most recent call last)",
      "Cell \u001b[1;32mIn[4], line 46\u001b[0m\n\u001b[0;32m     43\u001b[0m budget \u001b[38;5;241m=\u001b[39m \u001b[38;5;241m500\u001b[39m\n\u001b[0;32m     45\u001b[0m \u001b[38;5;66;03m# Recherche de la meilleure combinaison d'actions\u001b[39;00m\n\u001b[1;32m---> 46\u001b[0m best_combination, best_profit \u001b[38;5;241m=\u001b[39m \u001b[43mfind_best_combination\u001b[49m\u001b[43m(\u001b[49m\u001b[43mactions\u001b[49m\u001b[43m,\u001b[49m\u001b[43m \u001b[49m\u001b[43mbudget\u001b[49m\u001b[43m)\u001b[49m\n\u001b[0;32m     48\u001b[0m \u001b[38;5;66;03m# Affichage du résultat\u001b[39;00m\n\u001b[0;32m     49\u001b[0m \u001b[38;5;28mprint\u001b[39m(\u001b[38;5;124m\"\u001b[39m\u001b[38;5;124mMeilleure combinaison d\u001b[39m\u001b[38;5;124m'\u001b[39m\u001b[38;5;124mactions:\u001b[39m\u001b[38;5;124m\"\u001b[39m)\n",
      "Cell \u001b[1;32mIn[4], line 30\u001b[0m, in \u001b[0;36mfind_best_combination\u001b[1;34m(actions, budget)\u001b[0m\n\u001b[0;32m     28\u001b[0m \u001b[38;5;28;01mfor\u001b[39;00m r \u001b[38;5;129;01min\u001b[39;00m \u001b[38;5;28mrange\u001b[39m(\u001b[38;5;241m1\u001b[39m, \u001b[38;5;28mlen\u001b[39m(actions) \u001b[38;5;241m+\u001b[39m \u001b[38;5;241m1\u001b[39m):\n\u001b[0;32m     29\u001b[0m     \u001b[38;5;28;01mfor\u001b[39;00m combination \u001b[38;5;129;01min\u001b[39;00m combinations(actions, r):\n\u001b[1;32m---> 30\u001b[0m         total_cost \u001b[38;5;241m=\u001b[39m \u001b[43mcalculate_total_cost\u001b[49m\u001b[43m(\u001b[49m\u001b[43mcombination\u001b[49m\u001b[43m)\u001b[49m\n\u001b[0;32m     31\u001b[0m         \u001b[38;5;28;01mif\u001b[39;00m total_cost \u001b[38;5;241m<\u001b[39m\u001b[38;5;241m=\u001b[39m budget:\n\u001b[0;32m     32\u001b[0m             total_profit \u001b[38;5;241m=\u001b[39m calculate_total_profit(combination)\n",
      "Cell \u001b[1;32mIn[4], line 21\u001b[0m, in \u001b[0;36mcalculate_total_cost\u001b[1;34m(combination)\u001b[0m\n\u001b[0;32m     20\u001b[0m \u001b[38;5;28;01mdef\u001b[39;00m \u001b[38;5;21mcalculate_total_cost\u001b[39m(combination):\n\u001b[1;32m---> 21\u001b[0m     \u001b[38;5;28;01mreturn\u001b[39;00m \u001b[38;5;28;43msum\u001b[39;49m\u001b[43m(\u001b[49m\u001b[43maction\u001b[49m\u001b[43m[\u001b[49m\u001b[38;5;124;43m'\u001b[39;49m\u001b[38;5;124;43mcost\u001b[39;49m\u001b[38;5;124;43m'\u001b[39;49m\u001b[43m]\u001b[49m\u001b[43m \u001b[49m\u001b[38;5;28;43;01mfor\u001b[39;49;00m\u001b[43m \u001b[49m\u001b[43maction\u001b[49m\u001b[43m \u001b[49m\u001b[38;5;129;43;01min\u001b[39;49;00m\u001b[43m \u001b[49m\u001b[43mcombination\u001b[49m\u001b[43m)\u001b[49m\n",
      "\u001b[1;31mTypeError\u001b[0m: unsupported operand type(s) for +: 'int' and 'str'"
     ]
    }
   ],
   "source": [
    "# Fonction pour lire les données des actions depuis un fichier CSV\n",
    "def read_actions(filename):\n",
    "    actions = []\n",
    "    with open(filename, mode='r') as file:\n",
    "        csv_reader = csv.DictReader(file)\n",
    "        for row in csv_reader:\n",
    "            action = {\n",
    "                'name': row['name'],\n",
    "                'cost': row['price'],\n",
    "                'profit': row['profit']\n",
    "            }\n",
    "            actions.append(action)\n",
    "    return actions\n",
    "\n",
    "# Fonction pour calculer le profit total d'une combinaison d'actions\n",
    "def calculate_total_profit(combination):\n",
    "    return sum(action['cost'] * action['profit'] / 100 for action in combination)\n",
    "\n",
    "# Fonction pour calculer le coût total d'une combinaison d'actions\n",
    "def calculate_total_cost(combination):\n",
    "    return sum(action['cost'] for action in combination)\n",
    "\n",
    "# Fonction pour trouver la meilleure combinaison d'actions\n",
    "def find_best_combination(actions, budget):\n",
    "    best_combination = []\n",
    "    best_profit = 0\n",
    "\n",
    "    for r in range(1, len(actions) + 1):\n",
    "        for combination in combinations(actions, r):\n",
    "            total_cost = calculate_total_cost(combination)\n",
    "            if total_cost <= budget:\n",
    "                total_profit = calculate_total_profit(combination)\n",
    "                if total_profit > best_profit:\n",
    "                    best_profit = total_profit\n",
    "                    best_combination = combination\n",
    "\n",
    "    return best_combination, best_profit\n",
    "\n",
    "# Lecture des données des actions\n",
    "actions = read_actions('test.csv')\n",
    "\n",
    "# Définition du budget maximum\n",
    "budget = 500\n",
    "\n",
    "# Recherche de la meilleure combinaison d'actions\n",
    "best_combination, best_profit = find_best_combination(actions, budget)\n",
    "\n",
    "# Affichage du résultat\n",
    "print(\"Meilleure combinaison d'actions:\")\n",
    "for action in best_combination:\n",
    "    print(f\"{action['name']} (Coût: {action['cost']}€, Profit: {action['profit']}%)\")\n",
    "print(f\"Profit total: {best_profit}€\")\n"
   ]
  },
  {
   "cell_type": "code",
   "execution_count": 7,
   "id": "7d65467a-085e-4e37-b3b9-030a531e6172",
   "metadata": {},
   "outputs": [
    {
     "name": "stdout",
     "output_type": "stream",
     "text": [
      "Best combination to buy:\n",
      "Action-10: Cost = 34, Profit = 9.18 euros\n",
      "Action-13: Cost = 38, Profit = 8.74 euros\n",
      "Action-17: Cost = 4, Profit = 0.48 euros\n",
      "Total profit: 18.400000000000002 euros\n"
     ]
    }
   ],
   "source": [
    "# from itertools import combinations\n",
    "\n",
    "# # Données des actions\n",
    "# actions = [\n",
    "#     (\"Action-1\", 20, 5), (\"Action-2\", 30, 10), (\"Action-3\", 50, 15),\n",
    "#     (\"Action-4\", 70, 20), (\"Action-5\", 60, 17), (\"Action-6\", 80, 25),\n",
    "#     (\"Action-7\", 22, 7), (\"Action-8\", 26, 11), (\"Action-9\", 48, 13),\n",
    "#     (\"Action-10\", 34, 27), (\"Action-11\", 42, 17), (\"Action-12\", 110, 9),\n",
    "#     (\"Action-13\", 38, 23), (\"Action-14\", 14, 1), (\"Action-15\", 18, 3),\n",
    "#     (\"Action-16\", 8, 8), (\"Action-17\", 4, 12), (\"Action-18\", 10, 14),\n",
    "#     (\"Action-19\", 24, 21), (\"Action-20\", 114, 18)\n",
    "# ]\n",
    "\n",
    "# def calculate_profit(cost, percentage):\n",
    "#     return cost * (percentage / 100)\n",
    "\n",
    "# # Création de toutes les combinaisons possibles respectant le budget de 500 euros\n",
    "# best_combination = None\n",
    "# max_profit = 0\n",
    "\n",
    "# for i in range(1, len(actions)+1):\n",
    "#     for combination in combinations(actions, i):\n",
    "#         total_cost = sum(action[1] for action in combination)\n",
    "#         if total_cost <= 78:\n",
    "#             total_profit = sum(calculate_profit(action[1], action[2]) for action in combination)\n",
    "#             if total_profit > max_profit:\n",
    "#                 max_profit = total_profit\n",
    "#                 best_combination = combination\n",
    "\n",
    "# # Affichage de la meilleure combinaison d'actions à acheter et du profit total\n",
    "# if best_combination:\n",
    "#     print(\"Best combination to buy:\")\n",
    "#     for action in best_combination:\n",
    "#         print(f\"{action[0]}: Cost = {action[1]}, Profit = {calculate_profit(action[1], action[2])} euros\")\n",
    "#     print(f\"Total profit: {max_profit} euros\")\n",
    "# else:\n",
    "#     print(\"No valid combination found within the budget.\")\n"
   ]
  },
  {
   "cell_type": "code",
   "execution_count": null,
   "id": "25f389bf-b70b-47b5-96be-3bbe3bc892e0",
   "metadata": {},
   "outputs": [],
   "source": []
  }
 ],
 "metadata": {
  "kernelspec": {
   "display_name": "Python 3 (ipykernel)",
   "language": "python",
   "name": "python3"
  },
  "language_info": {
   "codemirror_mode": {
    "name": "ipython",
    "version": 3
   },
   "file_extension": ".py",
   "mimetype": "text/x-python",
   "name": "python",
   "nbconvert_exporter": "python",
   "pygments_lexer": "ipython3",
   "version": "3.9.2"
  }
 },
 "nbformat": 4,
 "nbformat_minor": 5
}

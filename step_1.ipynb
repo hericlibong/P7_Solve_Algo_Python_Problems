{
 "cells": [
  {
   "cell_type": "code",
   "execution_count": 1,
   "id": "3dd80a3d-2d01-4a29-9238-a3d771d1abb1",
   "metadata": {},
   "outputs": [],
   "source": [
    "import pandas as pd\n",
    "from itertools import combinations\n",
    "import csv"
   ]
  },
  {
   "cell_type": "code",
   "execution_count": 2,
   "id": "a69de310-6cf0-4a2a-8415-6dcf0450150a",
   "metadata": {},
   "outputs": [
    {
     "data": {
      "text/plain": [
       "Index(['name', 'price', 'profit'], dtype='object')"
      ]
     },
     "execution_count": 2,
     "metadata": {},
     "output_type": "execute_result"
    }
   ],
   "source": [
    "data = pd.read_csv('dataset1_Python+P7.csv')\n",
    "data.columns"
   ]
  },
  {
   "cell_type": "code",
   "execution_count": 3,
   "id": "35fc6221-831f-4a93-b8ae-bb8988151e49",
   "metadata": {},
   "outputs": [
    {
     "ename": "KeyboardInterrupt",
     "evalue": "",
     "output_type": "error",
     "traceback": [
      "\u001b[1;31m---------------------------------------------------------------------------\u001b[0m",
      "\u001b[1;31mKeyboardInterrupt\u001b[0m                         Traceback (most recent call last)",
      "Cell \u001b[1;32mIn[3], line 66\u001b[0m\n\u001b[0;32m     64\u001b[0m total_cost \u001b[38;5;241m=\u001b[39m \u001b[38;5;28msum\u001b[39m(action[\u001b[38;5;124m'\u001b[39m\u001b[38;5;124mcost\u001b[39m\u001b[38;5;124m'\u001b[39m] \u001b[38;5;28;01mfor\u001b[39;00m action \u001b[38;5;129;01min\u001b[39;00m combination)\n\u001b[0;32m     65\u001b[0m \u001b[38;5;28;01mif\u001b[39;00m total_cost \u001b[38;5;241m<\u001b[39m\u001b[38;5;241m=\u001b[39m \u001b[38;5;241m500\u001b[39m:\n\u001b[1;32m---> 66\u001b[0m     total_profit \u001b[38;5;241m=\u001b[39m \u001b[38;5;28;43msum\u001b[39;49m\u001b[43m(\u001b[49m\u001b[43mcalculate_profit\u001b[49m\u001b[43m(\u001b[49m\u001b[43maction\u001b[49m\u001b[43m[\u001b[49m\u001b[38;5;124;43m'\u001b[39;49m\u001b[38;5;124;43mcost\u001b[39;49m\u001b[38;5;124;43m'\u001b[39;49m\u001b[43m]\u001b[49m\u001b[43m,\u001b[49m\u001b[43m \u001b[49m\u001b[43maction\u001b[49m\u001b[43m[\u001b[49m\u001b[38;5;124;43m'\u001b[39;49m\u001b[38;5;124;43mprofit\u001b[39;49m\u001b[38;5;124;43m'\u001b[39;49m\u001b[43m]\u001b[49m\u001b[43m)\u001b[49m\u001b[43m \u001b[49m\u001b[38;5;28;43;01mfor\u001b[39;49;00m\u001b[43m \u001b[49m\u001b[43maction\u001b[49m\u001b[43m \u001b[49m\u001b[38;5;129;43;01min\u001b[39;49;00m\u001b[43m \u001b[49m\u001b[43mcombination\u001b[49m\u001b[43m)\u001b[49m\n\u001b[0;32m     67\u001b[0m     \u001b[38;5;28;01mif\u001b[39;00m total_profit \u001b[38;5;241m>\u001b[39m max_profit:\n\u001b[0;32m     68\u001b[0m         max_profit \u001b[38;5;241m=\u001b[39m total_profit\n",
      "Cell \u001b[1;32mIn[3], line 66\u001b[0m, in \u001b[0;36m<genexpr>\u001b[1;34m(.0)\u001b[0m\n\u001b[0;32m     64\u001b[0m total_cost \u001b[38;5;241m=\u001b[39m \u001b[38;5;28msum\u001b[39m(action[\u001b[38;5;124m'\u001b[39m\u001b[38;5;124mcost\u001b[39m\u001b[38;5;124m'\u001b[39m] \u001b[38;5;28;01mfor\u001b[39;00m action \u001b[38;5;129;01min\u001b[39;00m combination)\n\u001b[0;32m     65\u001b[0m \u001b[38;5;28;01mif\u001b[39;00m total_cost \u001b[38;5;241m<\u001b[39m\u001b[38;5;241m=\u001b[39m \u001b[38;5;241m500\u001b[39m:\n\u001b[1;32m---> 66\u001b[0m     total_profit \u001b[38;5;241m=\u001b[39m \u001b[38;5;28msum\u001b[39m(calculate_profit(action[\u001b[38;5;124m'\u001b[39m\u001b[38;5;124mcost\u001b[39m\u001b[38;5;124m'\u001b[39m], action[\u001b[38;5;124m'\u001b[39m\u001b[38;5;124mprofit\u001b[39m\u001b[38;5;124m'\u001b[39m]) \u001b[38;5;28;01mfor\u001b[39;00m action \u001b[38;5;129;01min\u001b[39;00m combination)\n\u001b[0;32m     67\u001b[0m     \u001b[38;5;28;01mif\u001b[39;00m total_profit \u001b[38;5;241m>\u001b[39m max_profit:\n\u001b[0;32m     68\u001b[0m         max_profit \u001b[38;5;241m=\u001b[39m total_profit\n",
      "\u001b[1;31mKeyboardInterrupt\u001b[0m: "
     ]
    }
   ],
   "source": [
    "import csv\n",
    "\n",
    "def read_actions(filename, name_col, cost_col, profit_col):\n",
    "    \"\"\"\n",
    "    Lit les données des actions à partir d'un fichier CSV et les stocke dans une liste de dictionnaires,\n",
    "    en utilisant les noms de colonnes spécifiés pour le nom, le coût et le profit des actions.\n",
    "\n",
    "    Args:\n",
    "        filename (str): Le chemin du fichier CSV contenant les données des actions.\n",
    "        name_col (str): Le nom de la colonne qui contient le nom des actions.\n",
    "        cost_col (str): Le nom de la colonne qui contient le coût des actions.\n",
    "        profit_col (str): Le nom de la colonne qui contient le profit des actions.\n",
    "\n",
    "    Returns:\n",
    "        list: Une liste de dictionnaires, où chaque dictionnaire contient les informations d'une action,\n",
    "              incluant le nom, le coût et le profit en pourcentage.\n",
    "\n",
    "    Raises:\n",
    "        FileNotFoundError: Si le fichier spécifié n'est pas trouvé.\n",
    "        Exception: Pour les erreurs liées à la lecture du fichier ou au parsing des données.\n",
    "    \"\"\"\n",
    "    actions = []\n",
    "    try:\n",
    "        with open(filename, mode='r') as file:\n",
    "            csv_reader = csv.DictReader(file)\n",
    "            for row in csv_reader:\n",
    "                action = {\n",
    "                    'name': row[name_col],\n",
    "                    'cost': float(row[cost_col]),\n",
    "                    'profit': float(row[profit_col])\n",
    "                }\n",
    "                actions.append(action)\n",
    "    except FileNotFoundError:\n",
    "        raise FileNotFoundError(\"Le fichier spécifié n'a pas été trouvé.\")\n",
    "    except Exception as e:\n",
    "        raise Exception(f\"Erreur lors de la lecture du fichier: {e}\")\n",
    "    return actions\n",
    "\n",
    "\n",
    "def calculate_profit(cost, percentage):\n",
    "    \"\"\"\n",
    "    Calcule le profit en euros basé sur le coût initial de l'action et le pourcentage de profit.\n",
    "\n",
    "    Args:\n",
    "        cost (float): Le coût initial de l'action.\n",
    "        percentage (float): Le pourcentage de profit attendu après deux ans.\n",
    "\n",
    "    Returns:\n",
    "        float: Le profit en euros calculé.\n",
    "    \"\"\"\n",
    "    return cost * (percentage / 100)\n",
    "\n",
    "\n",
    "# Chargement des actions à partir du fichier CSV\n",
    "actions = read_actions('dataset1_Python+P7.csv','name', 'price', 'profit')\n",
    "\n",
    "# Initialisation des variables pour garder la trace de la meilleure combinaison et du profit maximum\n",
    "best_combination = None\n",
    "max_profit = 0\n",
    "\n",
    "# Création et évaluation de toutes les combinaisons possibles d'actions respectant le budget de 500 euros\n",
    "for i in range(1, len(actions)+1):\n",
    "    for combination in combinations(actions, i):\n",
    "        total_cost = sum(action['cost'] for action in combination)\n",
    "        if total_cost <= 500:\n",
    "            total_profit = sum(calculate_profit(action['cost'], action['profit']) for action in combination)\n",
    "            if total_profit > max_profit:\n",
    "                max_profit = total_profit\n",
    "                best_combination = combination\n",
    "\n",
    "# Affichage des résultats\n",
    "if best_combination:\n",
    "    print(\"Best combination to buy:\")\n",
    "    for action in best_combination:\n",
    "        print(f\"{action['name']}: Cost = {action['cost']}, Profit = {calculate_profit(action['cost'], action['profit'])} euros\")\n",
    "    print(f\"Total profit: {max_profit} euros\")\n",
    "else:\n",
    "    print(\"No valid combination found within the budget.\")\n"
   ]
  }
 ],
 "metadata": {
  "kernelspec": {
   "display_name": "Python 3 (ipykernel)",
   "language": "python",
   "name": "python3"
  },
  "language_info": {
   "codemirror_mode": {
    "name": "ipython",
    "version": 3
   },
   "file_extension": ".py",
   "mimetype": "text/x-python",
   "name": "python",
   "nbconvert_exporter": "python",
   "pygments_lexer": "ipython3",
   "version": "3.9.2"
  }
 },
 "nbformat": 4,
 "nbformat_minor": 5
}
